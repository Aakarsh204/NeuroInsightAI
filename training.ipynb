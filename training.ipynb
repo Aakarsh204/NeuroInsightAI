{
 "cells": [
  {
   "cell_type": "code",
   "execution_count": 1,
   "metadata": {},
   "outputs": [
    {
     "name": "stdout",
     "output_type": "stream",
     "text": [
      "Segmentation Models: using `keras` framework.\n"
     ]
    }
   ],
   "source": [
    "import tensorflow as tf\n",
    "from tensorflow.keras.preprocessing.image import ImageDataGenerator\n",
    "from keras.callbacks import ModelCheckpoint\n",
    "from keras.metrics import MeanIoU\n",
    "import keras\n",
    "from sklearn.model_selection import train_test_split\n",
    "from keras.utils import to_categorical\n",
    "\n",
    "from segmentation_models import get_preprocessing\n",
    "from keras.applications.imagenet_utils import preprocess_input\n",
    "import segmentation_models as sm\n",
    "\n",
    "from tqdm import tqdm\n",
    "import os\n",
    "import numpy as np\n",
    "import cv2\n",
    "\n",
    "# gpus = tf.config.experimental.list_physical_devices('GPU')\n",
    "# for gpu in gpus:\n",
    "#     tf.config.experimental.set_memory_growth(gpu, True)\n",
    "\n"
   ]
  },
  {
   "cell_type": "markdown",
   "metadata": {},
   "source": [
    "## Loading data"
   ]
  },
  {
   "cell_type": "code",
   "execution_count": 2,
   "metadata": {},
   "outputs": [
    {
     "name": "stdout",
     "output_type": "stream",
     "text": [
      "Astrocytoma ---> 529\n",
      "Glioblastoma ---> 732\n",
      "Gliomas ---> 1237\n",
      "Meningioma ---> 640\n",
      "Neurocytoma ---> 176\n"
     ]
    }
   ],
   "source": [
    "parent_directory = \"Dataset\\images\"\n",
    "\n",
    "for i in os.listdir(parent_directory):\n",
    "    print(f'{i} ---> {len(os.listdir(os.path.join(parent_directory, i)))}')"
   ]
  },
  {
   "cell_type": "code",
   "execution_count": 3,
   "metadata": {},
   "outputs": [],
   "source": [
    "SIZE_X = 256\n",
    "SIZE_Y = 256\n",
    "IMAGES_FROM_CLASS = 300\n",
    "TOTAL_CLASSES = 6"
   ]
  },
  {
   "cell_type": "code",
   "execution_count": 4,
   "metadata": {},
   "outputs": [
    {
     "name": "stderr",
     "output_type": "stream",
     "text": [
      "100%|██████████| 300/300 [00:06<00:00, 48.58it/s]\n",
      "100%|██████████| 300/300 [00:04<00:00, 70.17it/s]\n",
      "100%|██████████| 300/300 [00:03<00:00, 79.94it/s]\n",
      "100%|██████████| 300/300 [00:05<00:00, 54.71it/s]\n",
      "100%|██████████| 176/176 [00:03<00:00, 54.94it/s]\n",
      "100%|██████████| 5/5 [00:22<00:00,  4.58s/it]\n"
     ]
    }
   ],
   "source": [
    "image_directory = r\"Dataset\\images\";\n",
    "mask_directory = r\"Dataset\\masks\";\n",
    "\n",
    "train_images = []\n",
    "train_masks = []\n",
    "\n",
    "class_labels = [i for i in os.listdir(image_directory)]\n",
    "\n",
    "for class_name in tqdm(os.listdir(image_directory)):\n",
    "    image_class_path = os.path.join(image_directory, class_name)\n",
    "    mask_class_path = os.path.join(mask_directory, class_name)\n",
    "\n",
    "    for filename in tqdm(os.listdir(image_class_path)[:IMAGES_FROM_CLASS]):\n",
    "        image_path = os.path.join(image_class_path, filename)\n",
    "        mask_path = os.path.join(mask_class_path, filename[:-4] + \"_mask\" + filename[-4:])\n",
    "        \n",
    "        image = cv2.imread(image_path)\n",
    "        if image is None:\n",
    "            print(f\"Failed to read image: {image_path}\")\n",
    "            continue\n",
    "\n",
    "        image = cv2.resize(image, (SIZE_X, SIZE_Y))\n",
    "        # image = image/255.\n",
    "\n",
    "        mask = cv2.imread(mask_path, 0)\n",
    "        if mask is None:\n",
    "            print(f\"Failed to read mask: {mask_path}\")\n",
    "            continue\n",
    "\n",
    "        mask = cv2.resize(mask, (SIZE_X, SIZE_Y), interpolation = cv2.INTER_NEAREST)\n",
    "        mask = mask / 255.\n",
    "        mask[mask == 1] += class_labels.index(class_name)\n",
    "\n",
    "        train_images.append(image)\n",
    "        train_masks.append(mask)\n",
    "\n",
    "        # print(np.unique(mask))\n"
   ]
  },
  {
   "cell_type": "code",
   "execution_count": 5,
   "metadata": {},
   "outputs": [
    {
     "name": "stderr",
     "output_type": "stream",
     "text": [
      "100%|██████████| 100/100 [00:02<00:00, 48.99it/s]\n",
      "100%|██████████| 100/100 [00:01<00:00, 84.55it/s]\n",
      "100%|██████████| 100/100 [00:01<00:00, 77.31it/s]\n",
      "100%|██████████| 100/100 [00:01<00:00, 56.20it/s]\n",
      "100%|██████████| 100/100 [00:00<00:00, 283.75it/s]\n",
      "100%|██████████| 5/5 [00:06<00:00,  1.34s/it]\n"
     ]
    }
   ],
   "source": [
    "image_directory = r\"Dataset\\images\";\n",
    "mask_directory = r\"Dataset\\masks\";\n",
    "\n",
    "validation_images = []\n",
    "validation_masks = []\n",
    "\n",
    "class_labels = [i for i in os.listdir(image_directory)]\n",
    "\n",
    "for class_name in tqdm(os.listdir(image_directory)):\n",
    "    image_class_path = os.path.join(image_directory, class_name)\n",
    "    mask_class_path = os.path.join(mask_directory, class_name)\n",
    "\n",
    "    if class_name == \"Neurocytoma\":\n",
    "        IMAGES_FROM_CLASS = 75\n",
    "    else:\n",
    "        IMAGES_FROM_CLASS = 300\n",
    "\n",
    "    for filename in tqdm(os.listdir(image_class_path)[IMAGES_FROM_CLASS:IMAGES_FROM_CLASS+100]):\n",
    "        image_path = os.path.join(image_class_path, filename)\n",
    "        mask_path = os.path.join(mask_class_path, filename[:-4] + \"_mask\" + filename[-4:])\n",
    "        \n",
    "        image = cv2.imread(image_path)\n",
    "        if image is None:\n",
    "            print(f\"Failed to read image: {image_path}\")\n",
    "            continue\n",
    "\n",
    "        image = cv2.resize(image, (SIZE_X, SIZE_Y))\n",
    "        # image = image/255.\n",
    "\n",
    "        mask = cv2.imread(mask_path, 0)\n",
    "        if mask is None:\n",
    "            print(f\"Failed to read mask: {mask_path}\")\n",
    "            continue\n",
    "\n",
    "        mask = cv2.resize(mask, (SIZE_X, SIZE_Y), interpolation = cv2.INTER_NEAREST)\n",
    "        mask = mask / 255.\n",
    "        mask[mask == 1] += class_labels.index(class_name)\n",
    "\n",
    "        validation_images.append(image)\n",
    "        validation_masks.append(mask)\n",
    "\n",
    "        # print(np.unique(mask))\n"
   ]
  },
  {
   "cell_type": "code",
   "execution_count": 6,
   "metadata": {},
   "outputs": [
    {
     "name": "stdout",
     "output_type": "stream",
     "text": [
      "(1376, 256, 256, 3)\n",
      "(1376, 256, 256)\n"
     ]
    }
   ],
   "source": [
    "train_images = np.array(train_images)\n",
    "train_masks = np.array(train_masks)\n",
    "\n",
    "print(train_images.shape)\n",
    "print(train_masks.shape)"
   ]
  },
  {
   "cell_type": "code",
   "execution_count": 7,
   "metadata": {},
   "outputs": [
    {
     "name": "stdout",
     "output_type": "stream",
     "text": [
      "(500, 256, 256, 3)\n",
      "(500, 256, 256)\n"
     ]
    }
   ],
   "source": [
    "validation_images = np.array(validation_images)\n",
    "validation_masks = np.array(validation_masks)\n",
    "\n",
    "print(validation_images.shape)\n",
    "print(validation_masks.shape)"
   ]
  },
  {
   "cell_type": "code",
   "execution_count": 8,
   "metadata": {},
   "outputs": [],
   "source": [
    "train_masks = np.expand_dims(train_masks, axis=3)\n",
    "validation_masks = np.expand_dims(validation_masks, axis=3)"
   ]
  },
  {
   "cell_type": "code",
   "execution_count": 9,
   "metadata": {},
   "outputs": [
    {
     "name": "stdout",
     "output_type": "stream",
     "text": [
      "(1376, 256, 256, 3)\n",
      "(1376, 256, 256, 1)\n",
      "(500, 256, 256, 3)\n",
      "(500, 256, 256, 1)\n"
     ]
    }
   ],
   "source": [
    "print(train_images.shape)\n",
    "print(train_masks.shape)\n",
    "\n",
    "print(validation_images.shape)\n",
    "print(validation_masks.shape)"
   ]
  },
  {
   "cell_type": "code",
   "execution_count": 10,
   "metadata": {},
   "outputs": [],
   "source": [
    "train_masks = to_categorical(train_masks, num_classes=TOTAL_CLASSES)\n",
    "validation_masks = to_categorical(validation_masks, num_classes=TOTAL_CLASSES)"
   ]
  },
  {
   "cell_type": "code",
   "execution_count": 11,
   "metadata": {},
   "outputs": [
    {
     "name": "stdout",
     "output_type": "stream",
     "text": [
      "(1376, 256, 256, 3)\n",
      "(1376, 256, 256, 6)\n",
      "(500, 256, 256, 3)\n",
      "(500, 256, 256, 6)\n"
     ]
    }
   ],
   "source": [
    "print(train_images.shape)\n",
    "print(train_masks.shape)\n",
    "\n",
    "print(validation_images.shape)\n",
    "print(validation_masks.shape)"
   ]
  },
  {
   "cell_type": "code",
   "execution_count": 12,
   "metadata": {},
   "outputs": [],
   "source": [
    "# Generate a permutation of indices\n",
    "indices = np.arange(len(train_images))\n",
    "np.random.shuffle(indices)\n",
    "\n",
    "# Apply the permutation to both arrays in place\n",
    "train_images[:] = train_images[indices]\n",
    "train_masks[:] = train_masks[indices]"
   ]
  },
  {
   "cell_type": "code",
   "execution_count": 13,
   "metadata": {},
   "outputs": [],
   "source": [
    "# Generate a permutation of indices\n",
    "indices = np.arange(len(validation_images))\n",
    "np.random.shuffle(indices)\n",
    "\n",
    "# Apply the permutation to both arrays in place\n",
    "validation_images[:] = validation_images[indices]\n",
    "validation_masks[:] = validation_masks[indices]"
   ]
  },
  {
   "cell_type": "code",
   "execution_count": 14,
   "metadata": {},
   "outputs": [
    {
     "data": {
      "text/plain": [
       "array([0., 1.], dtype=float32)"
      ]
     },
     "execution_count": 14,
     "metadata": {},
     "output_type": "execute_result"
    }
   ],
   "source": [
    "np.unique(train_masks)\n",
    "np.unique(validation_masks)"
   ]
  },
  {
   "cell_type": "code",
   "execution_count": 15,
   "metadata": {},
   "outputs": [
    {
     "name": "stdout",
     "output_type": "stream",
     "text": [
      "(1376, 256, 256, 3)\n",
      "(1376, 256, 256, 6)\n",
      "(500, 256, 256, 3)\n",
      "(500, 256, 256, 6)\n"
     ]
    }
   ],
   "source": [
    "print(train_images.shape)\n",
    "print(train_masks.shape)\n",
    "\n",
    "print(validation_images.shape)\n",
    "print(validation_masks.shape)"
   ]
  },
  {
   "cell_type": "markdown",
   "metadata": {},
   "source": [
    "## Training"
   ]
  },
  {
   "cell_type": "code",
   "execution_count": 16,
   "metadata": {},
   "outputs": [],
   "source": [
    "\n",
    "activation='softmax'\n",
    "class_weights = [0.00167, 0.764, 0.764, 0.764, 0.764, 1.304]\n",
    "LR = 0.0001\n",
    "optim = keras.optimizers.Adam(LR)\n",
    "\n",
    "# Segmentation models losses can be combined together by '+' and scaled by integer or float factor\n",
    "# set class weights for dice_loss (car: 1.; pedestrian: 2.; background: 0.5;)\n",
    "dice_loss = sm.losses.DiceLoss(class_weights=np.array(class_weights)) \n",
    "focal_loss = sm.losses.CategoricalFocalLoss()\n",
    "total_loss = dice_loss + (1 * focal_loss)\n",
    "\n",
    "# actulally total_loss can be imported directly from library, above example just show you how to manipulate with losses\n",
    "# total_loss = sm.losses.binary_focal_dice_loss # or sm.losses.categorical_focal_dice_loss \n",
    "\n",
    "metrics = [sm.metrics.IOUScore(threshold=0.5), sm.metrics.FScore(threshold=0.5)]\n"
   ]
  },
  {
   "cell_type": "code",
   "execution_count": 17,
   "metadata": {},
   "outputs": [],
   "source": [
    "filepath = \"checkpoints/improvement - {val_iou_score:.2f}.keras\"\n",
    "checkpoint = ModelCheckpoint(filepath, monitor='val_iou_score', save_best_only= True, mode = 'max')\n",
    "\n",
    "early_stopping = keras.callbacks.EarlyStopping(monitor=\"val_iou_score\", patience=10, min_delta=0.01, mode=\"max\")\n",
    "\n",
    "callbacks_list = [checkpoint, early_stopping]"
   ]
  },
  {
   "cell_type": "code",
   "execution_count": 18,
   "metadata": {},
   "outputs": [],
   "source": [
    "BACKBONE = \"inceptionresnetv2\"\n",
    "preprocess_input = sm.get_preprocessing(BACKBONE)\n",
    "\n",
    "# preprocess input\n",
    "train_images = preprocess_input(train_images)\n",
    "validation_images = preprocess_input(validation_images)"
   ]
  },
  {
   "cell_type": "code",
   "execution_count": 19,
   "metadata": {},
   "outputs": [],
   "source": [
    "model = sm.Unet(BACKBONE, encoder_weights='imagenet', classes=TOTAL_CLASSES, activation=activation)"
   ]
  },
  {
   "cell_type": "code",
   "execution_count": 20,
   "metadata": {},
   "outputs": [],
   "source": [
    "model.compile(optim, total_loss, metrics=metrics)"
   ]
  },
  {
   "cell_type": "code",
   "execution_count": null,
   "metadata": {},
   "outputs": [],
   "source": [
    "model.summary()"
   ]
  },
  {
   "cell_type": "code",
   "execution_count": 22,
   "metadata": {},
   "outputs": [
    {
     "name": "stdout",
     "output_type": "stream",
     "text": [
      "Epoch 1/25\n",
      "86/86 [==============================] - 1449s 17s/step - loss: 0.9862 - iou_score: 0.2159 - f1-score: 0.3100 - val_loss: 0.9919 - val_iou_score: 0.2024 - val_f1-score: 0.2875\n",
      "Epoch 2/25\n",
      "86/86 [==============================] - 1411s 16s/step - loss: 0.9174 - iou_score: 0.5001 - f1-score: 0.6301 - val_loss: 0.9118 - val_iou_score: 0.5712 - val_f1-score: 0.6929\n",
      "Epoch 3/25\n",
      "86/86 [==============================] - 1405s 16s/step - loss: 0.7641 - iou_score: 0.6624 - f1-score: 0.7715 - val_loss: 0.7528 - val_iou_score: 0.6197 - val_f1-score: 0.7320\n",
      "Epoch 4/25\n",
      "86/86 [==============================] - 1407s 16s/step - loss: 0.5927 - iou_score: 0.7043 - f1-score: 0.8040 - val_loss: 0.5977 - val_iou_score: 0.6750 - val_f1-score: 0.7811\n",
      "Epoch 5/25\n",
      "86/86 [==============================] - 1408s 16s/step - loss: 0.4983 - iou_score: 0.7453 - f1-score: 0.8376 - val_loss: 0.6428 - val_iou_score: 0.5324 - val_f1-score: 0.6170\n",
      "Epoch 6/25\n",
      "86/86 [==============================] - 1457s 17s/step - loss: 0.4591 - iou_score: 0.7822 - f1-score: 0.8653 - val_loss: 0.4761 - val_iou_score: 0.7200 - val_f1-score: 0.8170\n",
      "Epoch 7/25\n",
      "86/86 [==============================] - 1406s 16s/step - loss: 0.4433 - iou_score: 0.7974 - f1-score: 0.8738 - val_loss: 0.4749 - val_iou_score: 0.7040 - val_f1-score: 0.7964\n",
      "Epoch 8/25\n",
      "86/86 [==============================] - 1401s 16s/step - loss: 0.4139 - iou_score: 0.8222 - f1-score: 0.8959 - val_loss: 0.4837 - val_iou_score: 0.6819 - val_f1-score: 0.7791\n",
      "Epoch 9/25\n",
      "86/86 [==============================] - 1400s 16s/step - loss: 0.4095 - iou_score: 0.8158 - f1-score: 0.8910 - val_loss: 0.4637 - val_iou_score: 0.6960 - val_f1-score: 0.7913\n",
      "Epoch 10/25\n",
      "86/86 [==============================] - 1400s 16s/step - loss: 0.4118 - iou_score: 0.8383 - f1-score: 0.9063 - val_loss: 0.4763 - val_iou_score: 0.6631 - val_f1-score: 0.7595\n",
      "Epoch 11/25\n",
      "86/86 [==============================] - 1400s 16s/step - loss: 0.4089 - iou_score: 0.8153 - f1-score: 0.8869 - val_loss: 0.4450 - val_iou_score: 0.7124 - val_f1-score: 0.8028\n",
      "Epoch 12/25\n",
      "86/86 [==============================] - 1396s 16s/step - loss: 0.3888 - iou_score: 0.8349 - f1-score: 0.9032 - val_loss: 0.4323 - val_iou_score: 0.7223 - val_f1-score: 0.8114\n",
      "Epoch 13/25\n",
      "86/86 [==============================] - 1391s 16s/step - loss: 0.3947 - iou_score: 0.8479 - f1-score: 0.9125 - val_loss: 0.4334 - val_iou_score: 0.7320 - val_f1-score: 0.8215\n",
      "Epoch 14/25\n",
      "86/86 [==============================] - 1393s 16s/step - loss: 0.3922 - iou_score: 0.8469 - f1-score: 0.9089 - val_loss: 0.4252 - val_iou_score: 0.7432 - val_f1-score: 0.8315\n",
      "Epoch 15/25\n",
      "86/86 [==============================] - 1392s 16s/step - loss: 0.3762 - iou_score: 0.8641 - f1-score: 0.9238 - val_loss: 0.4162 - val_iou_score: 0.7464 - val_f1-score: 0.8328\n",
      "Epoch 16/25\n",
      "86/86 [==============================] - 1393s 16s/step - loss: 0.3692 - iou_score: 0.8685 - f1-score: 0.9265 - val_loss: 0.4184 - val_iou_score: 0.7470 - val_f1-score: 0.8326\n",
      "Epoch 17/25\n",
      "86/86 [==============================] - 1390s 16s/step - loss: 0.3754 - iou_score: 0.8720 - f1-score: 0.9278 - val_loss: 0.4300 - val_iou_score: 0.7317 - val_f1-score: 0.8210\n",
      "Epoch 18/25\n",
      "86/86 [==============================] - 1390s 16s/step - loss: 0.3709 - iou_score: 0.8715 - f1-score: 0.9261 - val_loss: 0.4206 - val_iou_score: 0.7394 - val_f1-score: 0.8272\n",
      "Epoch 19/25\n",
      "86/86 [==============================] - 1388s 16s/step - loss: 0.3755 - iou_score: 0.8805 - f1-score: 0.9337 - val_loss: 0.4244 - val_iou_score: 0.7370 - val_f1-score: 0.8232\n",
      "Epoch 20/25\n",
      "86/86 [==============================] - 1390s 16s/step - loss: 0.3731 - iou_score: 0.8738 - f1-score: 0.9279 - val_loss: 0.4228 - val_iou_score: 0.7309 - val_f1-score: 0.8148\n",
      "Epoch 21/25\n",
      "86/86 [==============================] - 1395s 16s/step - loss: 0.3768 - iou_score: 0.8856 - f1-score: 0.9360 - val_loss: 0.4081 - val_iou_score: 0.7564 - val_f1-score: 0.8403\n",
      "Epoch 22/25\n",
      "86/86 [==============================] - 1390s 16s/step - loss: 0.3534 - iou_score: 0.8834 - f1-score: 0.9343 - val_loss: 0.4263 - val_iou_score: 0.7263 - val_f1-score: 0.8129\n",
      "Epoch 23/25\n",
      "86/86 [==============================] - 1390s 16s/step - loss: 0.3647 - iou_score: 0.8819 - f1-score: 0.9316 - val_loss: 0.4153 - val_iou_score: 0.7427 - val_f1-score: 0.8259\n",
      "Epoch 24/25\n",
      "86/86 [==============================] - 1390s 16s/step - loss: 0.3490 - iou_score: 0.8800 - f1-score: 0.9314 - val_loss: 0.4202 - val_iou_score: 0.7337 - val_f1-score: 0.8170\n",
      "Epoch 25/25\n",
      "86/86 [==============================] - 1392s 16s/step - loss: 0.3706 - iou_score: 0.8877 - f1-score: 0.9367 - val_loss: 0.4144 - val_iou_score: 0.7451 - val_f1-score: 0.8305\n"
     ]
    }
   ],
   "source": [
    "with tf.device('/cpu:0'):\n",
    "    training = model.fit(train_images, train_masks, validation_data = (validation_images, validation_masks), batch_size=16, epochs=25, verbose=1, callbacks=callbacks_list)"
   ]
  },
  {
   "cell_type": "markdown",
   "metadata": {},
   "source": [
    "## Validating output"
   ]
  },
  {
   "cell_type": "code",
   "execution_count": 24,
   "metadata": {},
   "outputs": [],
   "source": [
    "best_model = keras.models.load_model(r\"checkpoints\\improvement - 0.76.keras\", compile=False)"
   ]
  },
  {
   "cell_type": "code",
   "execution_count": 272,
   "metadata": {},
   "outputs": [],
   "source": [
    "test_image = cv2.imread(r\"Dataset\\images\\Neurocytoma\\0.tif\")\n",
    "test_image = cv2.resize(test_image, (SIZE_X, SIZE_Y))\n",
    "\n",
    "# cv2.imshow(\"astrocytoma\", test_image)\n",
    "# cv2.waitKey(0)\n",
    "# cv2.destroyAllWindows() \n",
    "\n",
    "# test_image = image/255.\n"
   ]
  },
  {
   "cell_type": "code",
   "execution_count": 273,
   "metadata": {},
   "outputs": [
    {
     "data": {
      "text/plain": [
       "(256, 256, 3)"
      ]
     },
     "execution_count": 273,
     "metadata": {},
     "output_type": "execute_result"
    }
   ],
   "source": [
    "test_image.shape"
   ]
  },
  {
   "cell_type": "code",
   "execution_count": 274,
   "metadata": {},
   "outputs": [],
   "source": [
    "test_image_model = np.expand_dims(test_image, 0)"
   ]
  },
  {
   "cell_type": "code",
   "execution_count": 275,
   "metadata": {},
   "outputs": [],
   "source": [
    "test_image_model = preprocess_input(test_image_model)"
   ]
  },
  {
   "cell_type": "code",
   "execution_count": 276,
   "metadata": {},
   "outputs": [
    {
     "name": "stdout",
     "output_type": "stream",
     "text": [
      "1/1 [==============================] - 0s 55ms/step\n"
     ]
    }
   ],
   "source": [
    "predicted_mask = best_model.predict(test_image_model)"
   ]
  },
  {
   "cell_type": "code",
   "execution_count": 277,
   "metadata": {},
   "outputs": [
    {
     "data": {
      "text/plain": [
       "(1, 256, 256, 6)"
      ]
     },
     "execution_count": 277,
     "metadata": {},
     "output_type": "execute_result"
    }
   ],
   "source": [
    "predicted_mask.shape"
   ]
  },
  {
   "cell_type": "code",
   "execution_count": 278,
   "metadata": {},
   "outputs": [],
   "source": [
    "predicted_mask = np.squeeze(predicted_mask, axis=0)"
   ]
  },
  {
   "cell_type": "code",
   "execution_count": 279,
   "metadata": {},
   "outputs": [
    {
     "data": {
      "text/plain": [
       "(256, 256, 6)"
      ]
     },
     "execution_count": 279,
     "metadata": {},
     "output_type": "execute_result"
    }
   ],
   "source": [
    "predicted_mask.shape"
   ]
  },
  {
   "cell_type": "code",
   "execution_count": 280,
   "metadata": {},
   "outputs": [],
   "source": [
    "predicted_mask = predicted_mask * 255."
   ]
  },
  {
   "cell_type": "code",
   "execution_count": 281,
   "metadata": {},
   "outputs": [],
   "source": [
    "predicted_mask = np.argmax(predicted_mask, axis = -1)\n"
   ]
  },
  {
   "cell_type": "code",
   "execution_count": 282,
   "metadata": {},
   "outputs": [
    {
     "data": {
      "text/plain": [
       "(256, 256)"
      ]
     },
     "execution_count": 282,
     "metadata": {},
     "output_type": "execute_result"
    }
   ],
   "source": [
    "predicted_mask.shape\n"
   ]
  },
  {
   "cell_type": "code",
   "execution_count": 283,
   "metadata": {},
   "outputs": [
    {
     "data": {
      "text/plain": [
       "array([0, 5], dtype=int64)"
      ]
     },
     "execution_count": 283,
     "metadata": {},
     "output_type": "execute_result"
    }
   ],
   "source": [
    "np.unique(predicted_mask)"
   ]
  },
  {
   "cell_type": "code",
   "execution_count": 284,
   "metadata": {},
   "outputs": [
    {
     "data": {
      "image/png": "[encoded data removed]",
      "text/plain": [
       "<Figure size 640x480 with 1 Axes>"
      ]
     },
     "metadata": {},
     "output_type": "display_data"
    }
   ],
   "source": [
    "import matplotlib.pyplot as plt\n",
    "\n",
    "plt.imshow(predicted_mask)\n",
    "plt.show()"
   ]
  },
  {
   "cell_type": "code",
   "execution_count": 285,
   "metadata": {},
   "outputs": [],
   "source": [
    "# Assuming your predicted_mask is of shape (256, 256) with values [0, 1, 2, 3, 4, 5]\n",
    "# Define a color map for the classes (0 = black, 1 = red, 2 = green, 3 = blue, etc.)\n",
    "color_map = {\n",
    "    0: [0, 0, 0],       # Black for background\n",
    "    1: [255, 0, 0],     # Red for class 1\n",
    "    2: [0, 255, 0],     # Green for class 2\n",
    "    3: [0, 0, 255],     # Blue for class 3\n",
    "    4: [255, 255, 0],   # Yellow for class 4\n",
    "    5: [255, 0, 255],   # Magenta for class 5\n",
    "}"
   ]
  },
  {
   "cell_type": "code",
   "execution_count": 286,
   "metadata": {},
   "outputs": [],
   "source": [
    "colored_mask = np.zeros((predicted_mask.shape[0], predicted_mask.shape[1], 3), dtype=np.uint8)\n"
   ]
  },
  {
   "cell_type": "code",
   "execution_count": 287,
   "metadata": {},
   "outputs": [
    {
     "data": {
      "text/plain": [
       "(256, 256, 3)"
      ]
     },
     "execution_count": 287,
     "metadata": {},
     "output_type": "execute_result"
    }
   ],
   "source": [
    "colored_mask.shape"
   ]
  },
  {
   "cell_type": "code",
   "execution_count": 288,
   "metadata": {},
   "outputs": [],
   "source": [
    "\n",
    "for class_value, color in color_map.items():\n",
    "    colored_mask[predicted_mask == class_value] = color"
   ]
  },
  {
   "cell_type": "code",
   "execution_count": 289,
   "metadata": {},
   "outputs": [
    {
     "data": {
      "text/plain": [
       "(256, 256, 3)"
      ]
     },
     "execution_count": 289,
     "metadata": {},
     "output_type": "execute_result"
    }
   ],
   "source": [
    "colored_mask.shape"
   ]
  },
  {
   "cell_type": "code",
   "execution_count": 290,
   "metadata": {},
   "outputs": [
    {
     "data": {
      "image/png": "[encoded data removed]",
      "text/plain": [
       "<Figure size 640x480 with 1 Axes>"
      ]
     },
     "metadata": {},
     "output_type": "display_data"
    }
   ],
   "source": [
    "import matplotlib.pyplot as plt\n",
    "\n",
    "plt.imshow(cv2.cvtColor(colored_mask, cv2.COLOR_BGR2RGB))\n",
    "plt.show()"
   ]
  },
  {
   "cell_type": "code",
   "execution_count": 291,
   "metadata": {},
   "outputs": [
    {
     "name": "stdout",
     "output_type": "stream",
     "text": [
      "(256, 256, 3)\n",
      "(256, 256, 3)\n",
      "uint8\n",
      "uint8\n"
     ]
    }
   ],
   "source": [
    "print(test_image.shape)\n",
    "print(colored_mask.shape)\n",
    "\n",
    "print(test_image.dtype)\n",
    "print(colored_mask.dtype)"
   ]
  },
  {
   "cell_type": "code",
   "execution_count": 292,
   "metadata": {},
   "outputs": [],
   "source": [
    "# # Step 1: Clip values to [0, 1] range (optional but good practice)\n",
    "# test_image_clipped = np.clip(test_image, 0, 1)\n",
    "\n",
    "# # Step 2: Scale the values to [0, 255]\n",
    "# test_image_scaled = test_image_clipped * 255\n",
    "\n",
    "# # Step 3: Convert to uint8\n",
    "# test_image = test_image.astype(np.uint8)"
   ]
  },
  {
   "cell_type": "code",
   "execution_count": 293,
   "metadata": {},
   "outputs": [
    {
     "name": "stdout",
     "output_type": "stream",
     "text": [
      "(256, 256, 3)\n",
      "(256, 256, 3)\n",
      "uint8\n",
      "uint8\n"
     ]
    }
   ],
   "source": [
    "print(test_image.shape)\n",
    "print(colored_mask.shape)\n",
    "\n",
    "print(test_image.dtype)\n",
    "print(colored_mask.dtype)"
   ]
  },
  {
   "cell_type": "code",
   "execution_count": 294,
   "metadata": {},
   "outputs": [
    {
     "data": {
      "image/png": "[encoded data removed]",
      "text/plain": [
       "<Figure size 640x480 with 1 Axes>"
      ]
     },
     "metadata": {},
     "output_type": "display_data"
    }
   ],
   "source": [
    "masked_image = cv2.addWeighted(test_image, 0.4, colored_mask, 0.6, 0)\n",
    "\n",
    "# Concatenate the test image and masked image side by side\n",
    "display_image = cv2.hconcat([test_image, masked_image])\n",
    "\n",
    "# # Display the image\n",
    "# cv2.imshow(\"astrocytoma\", display_image)\n",
    "# cv2.waitKey(0)\n",
    "# cv2.destroyAllWindows()\n",
    "\n",
    "plt.axis(\"off\")\n",
    "plt.imshow(cv2.cvtColor(display_image, cv2.COLOR_BGR2RGB))\n",
    "plt.show()"
   ]
  },
  {
   "cell_type": "markdown",
   "metadata": {},
   "source": [
    "## Training to improve accuracy"
   ]
  },
  {
   "cell_type": "code",
   "execution_count": 21,
   "metadata": {},
   "outputs": [],
   "source": [
    "filepath = \"checkpoints/v2_improvement - {val_iou_score:.2f}.keras\"\n",
    "checkpoint = ModelCheckpoint(filepath, monitor='val_iou_score', save_best_only= True, mode = 'max')\n",
    "\n",
    "early_stopping = keras.callbacks.EarlyStopping(monitor=\"val_iou_score\", patience=10, min_delta=0.01, mode=\"max\")\n",
    "\n",
    "callbacks_list = [checkpoint, early_stopping]"
   ]
  },
  {
   "cell_type": "code",
   "execution_count": 22,
   "metadata": {},
   "outputs": [],
   "source": [
    "model.load_weights(r\"checkpoints\\improvement - 0.76.keras\")"
   ]
  },
  {
   "cell_type": "code",
   "execution_count": 23,
   "metadata": {},
   "outputs": [
    {
     "name": "stdout",
     "output_type": "stream",
     "text": [
      "Epoch 1/25\n",
      "86/86 [==============================] - 1481s 17s/step - loss: 0.3837 - iou_score: 0.8794 - f1-score: 0.9302 - val_loss: 0.4322 - val_iou_score: 0.7527 - val_f1-score: 0.8356\n",
      "Epoch 2/25\n",
      "86/86 [==============================] - 1400s 16s/step - loss: 0.3699 - iou_score: 0.8795 - f1-score: 0.9333 - val_loss: 0.4419 - val_iou_score: 0.7380 - val_f1-score: 0.8246\n",
      "Epoch 3/25\n",
      "86/86 [==============================] - 1411s 16s/step - loss: 0.3753 - iou_score: 0.8790 - f1-score: 0.9313 - val_loss: 0.4597 - val_iou_score: 0.7099 - val_f1-score: 0.8007\n",
      "Epoch 4/25\n",
      "86/86 [==============================] - 1406s 16s/step - loss: 0.3654 - iou_score: 0.8733 - f1-score: 0.9270 - val_loss: 0.4517 - val_iou_score: 0.7207 - val_f1-score: 0.8087\n",
      "Epoch 5/25\n",
      "86/86 [==============================] - 1410s 16s/step - loss: 0.3684 - iou_score: 0.8711 - f1-score: 0.9241 - val_loss: 0.4501 - val_iou_score: 0.7273 - val_f1-score: 0.8126\n",
      "Epoch 6/25\n",
      "86/86 [==============================] - 1409s 16s/step - loss: 0.3574 - iou_score: 0.8885 - f1-score: 0.9380 - val_loss: 0.4388 - val_iou_score: 0.7410 - val_f1-score: 0.8275\n",
      "Epoch 7/25\n",
      "86/86 [==============================] - 1409s 16s/step - loss: 0.3682 - iou_score: 0.8919 - f1-score: 0.9381 - val_loss: 0.4315 - val_iou_score: 0.7517 - val_f1-score: 0.8359\n",
      "Epoch 8/25\n",
      "86/86 [==============================] - 1413s 16s/step - loss: 0.3464 - iou_score: 0.8981 - f1-score: 0.9437 - val_loss: 0.4296 - val_iou_score: 0.7563 - val_f1-score: 0.8369\n",
      "Epoch 9/25\n",
      "86/86 [==============================] - 1410s 16s/step - loss: 0.3614 - iou_score: 0.8953 - f1-score: 0.9395 - val_loss: 0.4366 - val_iou_score: 0.7451 - val_f1-score: 0.8270\n",
      "Epoch 10/25\n",
      "86/86 [==============================] - 1409s 16s/step - loss: 0.3524 - iou_score: 0.9036 - f1-score: 0.9476 - val_loss: 0.4372 - val_iou_score: 0.7425 - val_f1-score: 0.8276\n",
      "Epoch 11/25\n",
      "86/86 [==============================] - 1411s 16s/step - loss: 0.3390 - iou_score: 0.9045 - f1-score: 0.9483 - val_loss: 0.4389 - val_iou_score: 0.7426 - val_f1-score: 0.8246\n"
     ]
    }
   ],
   "source": [
    "with tf.device('/cpu:0'):\n",
    "    training_v2 = model.fit(train_images, train_masks, validation_data = (validation_images, validation_masks), batch_size=16, epochs=25, verbose=1, callbacks=callbacks_list)"
   ]
  }
 ],
 "metadata": {
  "kernelspec": {
   "display_name": "Python 3",
   "language": "python",
   "name": "python3"
  },
  "language_info": {
   "codemirror_mode": {
    "name": "ipython",
    "version": 3
   },
   "file_extension": ".py",
   "mimetype": "text/x-python",
   "name": "python",
   "nbconvert_exporter": "python",
   "pygments_lexer": "ipython3",
   "version": "3.10.13"
  }
 },
 "nbformat": 4,
 "nbformat_minor": 2
}
