{
 "cells": [
  {
   "cell_type": "code",
   "execution_count": 13,
   "metadata": {},
   "outputs": [],
   "source": [
    "import os\n",
    "import matplotlib.pyplot as plt\n",
    "import cv2\n",
    "import random"
   ]
  },
  {
   "cell_type": "code",
   "execution_count": 9,
   "metadata": {},
   "outputs": [
    {
     "data": {
      "text/plain": [
       "529"
      ]
     },
     "execution_count": 9,
     "metadata": {},
     "output_type": "execute_result"
    }
   ],
   "source": [
    "images = []\n",
    "class_dir = \"Brain Tumor Classification 2D\\Brain Tumor Classification 2D\\Astrocytoma\"\n",
    "\n",
    "for i in os.listdir(class_dir):\n",
    "\n",
    "    if \"mask\" not in i: \n",
    "        images.append(i)\\\n",
    "        \n",
    "len(images)"
   ]
  },
  {
   "cell_type": "code",
   "execution_count": 29,
   "metadata": {},
   "outputs": [],
   "source": [
    "img_name = random.choice(images)\n",
    "img_path = os.path.join(class_dir, img_name)\n",
    "mask_path = os.path.join(class_dir, img_name[:-4] + \"_mask\" + img_name[-4:])\n",
    "\n",
    "img = cv2.imread(img_path)\n",
    "mask = cv2.imread(mask_path)\n",
    "\n",
    "masked_image = cv2.addWeighted(img, 0.5, mask, 0.5, 0);\n",
    "\n",
    "cv2.imshow(\"astrocytoma\", masked_image);\n",
    "cv2.waitKey(0)\n",
    "cv2.destroyAllWindows() "
   ]
  }
 ],
 "metadata": {
  "kernelspec": {
   "display_name": "Python 3",
   "language": "python",
   "name": "python3"
  },
  "language_info": {
   "codemirror_mode": {
    "name": "ipython",
    "version": 3
   },
   "file_extension": ".py",
   "mimetype": "text/x-python",
   "name": "python",
   "nbconvert_exporter": "python",
   "pygments_lexer": "ipython3",
   "version": "3.9.13"
  }
 },
 "nbformat": 4,
 "nbformat_minor": 2
}
